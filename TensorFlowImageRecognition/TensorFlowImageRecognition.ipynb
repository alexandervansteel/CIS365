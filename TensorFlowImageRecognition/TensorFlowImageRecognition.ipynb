{
 "cells": [
  {
   "cell_type": "markdown",
   "metadata": {},
   "source": [
    "# Dogs vs Cats Image Recognition with TensorFlow"
   ]
  },
  {
   "cell_type": "markdown",
   "metadata": {},
   "source": [
    "Trains and tests a Neural Network built in TensorFlow. "
   ]
  },
  {
   "cell_type": "code",
   "execution_count": 9,
   "metadata": {
    "collapsed": false
   },
   "outputs": [
    {
     "ename": "ImportError",
     "evalue": "No module named 'opencv'",
     "output_type": "error",
     "traceback": [
      "\u001b[0;31m---------------------------------------------------------------------------\u001b[0m",
      "\u001b[0;31mImportError\u001b[0m                               Traceback (most recent call last)",
      "\u001b[0;32m<ipython-input-9-1145d524d7b3>\u001b[0m in \u001b[0;36m<module>\u001b[0;34m()\u001b[0m\n\u001b[1;32m      4\u001b[0m \u001b[0;32mimport\u001b[0m \u001b[0mos\u001b[0m\u001b[0;34m\u001b[0m\u001b[0m\n\u001b[1;32m      5\u001b[0m \u001b[0;32mfrom\u001b[0m \u001b[0mIPython\u001b[0m\u001b[0;34m.\u001b[0m\u001b[0mdisplay\u001b[0m \u001b[0;32mimport\u001b[0m \u001b[0mdisplay\u001b[0m\u001b[0;34m,\u001b[0m \u001b[0mImage\u001b[0m\u001b[0;34m,\u001b[0m \u001b[0mHTML\u001b[0m\u001b[0;34m\u001b[0m\u001b[0m\n\u001b[0;32m----> 6\u001b[0;31m \u001b[0;32mimport\u001b[0m \u001b[0mopencv\u001b[0m\u001b[0;34m\u001b[0m\u001b[0m\n\u001b[0m\u001b[1;32m      7\u001b[0m \u001b[0;34m\u001b[0m\u001b[0m\n\u001b[1;32m      8\u001b[0m \u001b[0mtrain_dir\u001b[0m\u001b[0;34m=\u001b[0m\u001b[0;34m'../train/'\u001b[0m\u001b[0;34m\u001b[0m\u001b[0m\n",
      "\u001b[0;31mImportError\u001b[0m: No module named 'opencv'"
     ]
    }
   ],
   "source": [
    "# Modules to be used throughout the script.\n",
    "import matplotlib.pyplot as plt\n",
    "import numpy as np\n",
    "import os\n",
    "from IPython.display import display, Image, HTML\n",
    "import opencv\n",
    "\n",
    "train_dir='../train/'\n",
    "test_dir='../test/'"
   ]
  },
  {
   "cell_type": "markdown",
   "metadata": {},
   "source": [
    "# "
   ]
  },
  {
   "cell_type": "code",
   "execution_count": 3,
   "metadata": {
    "collapsed": false
   },
   "outputs": [
    {
     "ename": "NameError",
     "evalue": "name 'train_dir' is not defined",
     "output_type": "error",
     "traceback": [
      "\u001b[0;31m---------------------------------------------------------------------------\u001b[0m",
      "\u001b[0;31mNameError\u001b[0m                                 Traceback (most recent call last)",
      "\u001b[0;32m<ipython-input-3-0329e566972b>\u001b[0m in \u001b[0;36m<module>\u001b[0;34m()\u001b[0m\n\u001b[1;32m     17\u001b[0m    \u001b[0mexit\u001b[0m \u001b[0;34m(\u001b[0m\u001b[0;34m)\u001b[0m\u001b[0;34m\u001b[0m\u001b[0m\n\u001b[1;32m     18\u001b[0m \u001b[0;34m\u001b[0m\u001b[0m\n\u001b[0;32m---> 19\u001b[0;31m \u001b[0mtrain_images\u001b[0m\u001b[0;34m=\u001b[0m\u001b[0;34m[\u001b[0m\u001b[0mtrain_dir\u001b[0m\u001b[0;34m+\u001b[0m\u001b[0mi\u001b[0m \u001b[0;32mfor\u001b[0m \u001b[0mi\u001b[0m \u001b[0;32min\u001b[0m \u001b[0mos\u001b[0m\u001b[0;34m.\u001b[0m\u001b[0mlistdir\u001b[0m\u001b[0;34m(\u001b[0m\u001b[0mtrain_dir\u001b[0m\u001b[0;34m)\u001b[0m\u001b[0;34m]\u001b[0m\u001b[0;34m\u001b[0m\u001b[0m\n\u001b[0m\u001b[1;32m     20\u001b[0m \u001b[0mtrain_dogs\u001b[0m\u001b[0;34m=\u001b[0m\u001b[0;34m[\u001b[0m\u001b[0mtrain_dir\u001b[0m\u001b[0;34m+\u001b[0m\u001b[0mi\u001b[0m \u001b[0;32mfor\u001b[0m \u001b[0mi\u001b[0m \u001b[0;32min\u001b[0m \u001b[0mos\u001b[0m\u001b[0;34m.\u001b[0m\u001b[0mlistdir\u001b[0m\u001b[0;34m(\u001b[0m\u001b[0mtrain_dir\u001b[0m\u001b[0;34m)\u001b[0m \u001b[0;32mif\u001b[0m \u001b[0;34m'dog'\u001b[0m \u001b[0;32min\u001b[0m \u001b[0mi\u001b[0m\u001b[0;34m]\u001b[0m\u001b[0;34m\u001b[0m\u001b[0m\n\u001b[1;32m     21\u001b[0m \u001b[0mtrain_cats\u001b[0m\u001b[0;34m=\u001b[0m\u001b[0;34m[\u001b[0m\u001b[0mtrain_dir\u001b[0m\u001b[0;34m+\u001b[0m\u001b[0mi\u001b[0m \u001b[0;32mfor\u001b[0m \u001b[0mi\u001b[0m \u001b[0;32min\u001b[0m \u001b[0mos\u001b[0m\u001b[0;34m.\u001b[0m\u001b[0mlistdir\u001b[0m\u001b[0;34m(\u001b[0m\u001b[0mtrain_dir\u001b[0m\u001b[0;34m)\u001b[0m \u001b[0;32mif\u001b[0m \u001b[0;34m'cat'\u001b[0m \u001b[0;32min\u001b[0m \u001b[0mi\u001b[0m\u001b[0;34m]\u001b[0m\u001b[0;34m\u001b[0m\u001b[0m\n",
      "\u001b[0;31mNameError\u001b[0m: name 'train_dir' is not defined"
     ]
    }
   ],
   "source": [
    "# used for scaling/normalization\n",
    "image_size=150; # 150x150.\n",
    "chan=3\n",
    "pixel_depth=255.0  # Number of levels per pixel.\n",
    "\n",
    "# for small-sample testing\n",
    "OUTFILE = '../DogsvsCats.npsave.bin'\n",
    "tv_size_dogs=1000 \n",
    "tv_size_cats=1000 \n",
    "tv_size_all=2000\n",
    "train_size=1600\n",
    "val_size=400\n",
    "test_size=500\n",
    "\n",
    "if (train_size + val_size != tv_size_all):\n",
    "   print (\"Error, check that train_size + val_size is equal to tv_size_all\")\n",
    "   exit ()\n",
    "\n",
    "train_images=[train_dir+i for i in os.listdir(train_dir)] \n",
    "train_dogs=[train_dir+i for i in os.listdir(train_dir) if 'dog' in i]\n",
    "train_cats=[train_dir+i for i in os.listdir(train_dir) if 'cat' in i]\n",
    "test_images=[test_dir+i for i in os.listdir(test_dir)]\n",
    "\n",
    "train_images=train_dogs[:tv_size_dogs]+train_cats[:tv_size_cats]\n",
    "train_labels=np.array((['dogs']*tv_size_dogs)+(['cats']*tv_size_cats))\n",
    "test_images=test_images[:test_size]\n",
    "test_labels=np.array(['unknownclass']*test_size)"
   ]
  },
  {
   "cell_type": "markdown",
   "metadata": {},
   "source": [
    "Resize image to uniform 150X150 to normalize comparisons. \n",
    "\n",
    "If the image is not a square, maintain the aspect ratios with padding."
   ]
  },
  {
   "cell_type": "code",
   "execution_count": null,
   "metadata": {
    "collapsed": true
   },
   "outputs": [],
   "source": [
    "def read_image(file_path):\n",
    "    img=cv2.imread(file_path,cv2.IMREAD_COLOR) #cv2.IMREAD_GRAYSCALE\n",
    "    if (img.shape[0]>=img.shape[1]): # height is greater than width\n",
    "       resizeto=(image_size,int(round(image_size*(float(img.shape[1])/img.shape[0]))));\n",
    "    else:\n",
    "       resizeto=(int(round(image_size*(float(img.shape[0])/img.shape[1]))),image_size);\n",
    "    \n",
    "    img2=cv2.resize(img,(resizeto[1],resizeto[0]),interpolation=cv2.INTER_CUBIC)\n",
    "    img3=cv2.copyMakeBorder(img2,0,image_size-img2.shape[0],0,image_size-img2.shape[1],cv2.BORDER_CONSTANT,0)\n",
    "        \n",
    "    return img3[:,:,::-1]  # turn into rgb format"
   ]
  },
  {
   "cell_type": "markdown",
   "metadata": {},
   "source": [
    "Normalize each colour layer independently."
   ]
  },
  {
   "cell_type": "code",
   "execution_count": null,
   "metadata": {
    "collapsed": true
   },
   "outputs": [],
   "source": [
    "def prep_data(images):\n",
    "    count=len(images)\n",
    "    data=np.ndarray((count,image_size,image_size,chan),dtype=np.float32)\n",
    "\n",
    "    for i, image_file in enumerate(images):\n",
    "        image=read_image(image_file);\n",
    "        image_data=np.array(image,dtype=np.float32);\n",
    "        \n",
    "        image_data[:,:,0]=(image_data[:,:,0].astype(float)-pixel_depth/2)/pixel_depth\n",
    "        image_data[:,:,1]=(image_data[:,:,1].astype(float)-pixel_depth/2)/pixel_depth\n",
    "        image_data[:,:,2]=(image_data[:,:,2].astype(float)-pixel_depth/2)/pixel_depth\n",
    "        \n",
    "        data[i]=image_data; # image_data.T\n",
    "        if i%250 == 0: print('Processed {} of {}'.format(i, count))    \n",
    "    return data"
   ]
  },
  {
   "cell_type": "raw",
   "metadata": {},
   "source": [
    "Create the normalized training and testing data sets."
   ]
  },
  {
   "cell_type": "code",
   "execution_count": null,
   "metadata": {
    "collapsed": true
   },
   "outputs": [],
   "source": [
    "train_norm=prep_data(train_images)\n",
    "test_norm=prep_data(test_images)\n",
    "\n",
    "print('Train shape: {}'.format(train_norm.shape))\n",
    "print('Test shape: {}'.format(test_norm.shape))"
   ]
  },
  {
   "cell_type": "markdown",
   "metadata": {},
   "source": [
    "Sample Visualization of before and after normalization."
   ]
  },
  {
   "cell_type": "code",
   "execution_count": null,
   "metadata": {
    "collapsed": true
   },
   "outputs": [],
   "source": [
    "plt.imshow(train_norm[0,:,:,:],interpolation='nearest')\n",
    "plt.figure()\n",
    "plt.imshow(train_norm[1,:,:,:],interpolation='nearest')\n",
    "plt.figure()\n",
    "plt.imshow(train_norm[2,:,:,:],interpolation='nearest')\n",
    "plt.figure()\n",
    "plt.imshow(train_norm[1000,:,:,:],interpolation='nearest')\n",
    "plt.figure()\n",
    "plt.imshow(train_norm[1001,:,:,:],interpolation='nearest')\n",
    "plt.figure()\n",
    "plt.imshow(train_norm[1002,:,:,:],interpolation='nearest')"
   ]
  },
  {
   "cell_type": "markdown",
   "metadata": {},
   "source": [
    "Randomize the samples from the training and testing directories. Split the training data into training and validation."
   ]
  },
  {
   "cell_type": "code",
   "execution_count": 1,
   "metadata": {
    "collapsed": false
   },
   "outputs": [
    {
     "ename": "NameError",
     "evalue": "name 'np' is not defined",
     "output_type": "error",
     "traceback": [
      "\u001b[0;31m---------------------------------------------------------------------------\u001b[0m",
      "\u001b[0;31mNameError\u001b[0m                                 Traceback (most recent call last)",
      "\u001b[0;32m<ipython-input-1-aeb62729075e>\u001b[0m in \u001b[0;36m<module>\u001b[0;34m()\u001b[0m\n\u001b[0;32m----> 1\u001b[0;31m \u001b[0mnp\u001b[0m\u001b[0;34m.\u001b[0m\u001b[0mrandom\u001b[0m\u001b[0;34m.\u001b[0m\u001b[0mseed\u001b[0m\u001b[0;34m(\u001b[0m\u001b[0;36m121\u001b[0m\u001b[0;34m)\u001b[0m\u001b[0;34m\u001b[0m\u001b[0m\n\u001b[0m\u001b[1;32m      2\u001b[0m \u001b[0;32mdef\u001b[0m \u001b[0mrandomize\u001b[0m\u001b[0;34m(\u001b[0m\u001b[0mdataset\u001b[0m\u001b[0;34m,\u001b[0m\u001b[0mlabels\u001b[0m\u001b[0;34m)\u001b[0m\u001b[0;34m:\u001b[0m\u001b[0;34m\u001b[0m\u001b[0m\n\u001b[1;32m      3\u001b[0m \u001b[0;34m\u001b[0m\u001b[0m\n\u001b[1;32m      4\u001b[0m     \u001b[0mpermutation\u001b[0m\u001b[0;34m=\u001b[0m\u001b[0mnp\u001b[0m\u001b[0;34m.\u001b[0m\u001b[0mranomd\u001b[0m\u001b[0;34m.\u001b[0m\u001b[0mpermutation\u001b[0m\u001b[0;34m(\u001b[0m\u001b[0mlabels\u001b[0m\u001b[0;34m.\u001b[0m\u001b[0mshape\u001b[0m\u001b[0;34m[\u001b[0m\u001b[0;36m0\u001b[0m\u001b[0;34m]\u001b[0m\u001b[0;34m)\u001b[0m\u001b[0;34m\u001b[0m\u001b[0m\n\u001b[1;32m      5\u001b[0m     \u001b[0mshuff_dataset\u001b[0m\u001b[0;34m=\u001b[0m\u001b[0mdataset\u001b[0m\u001b[0;34m[\u001b[0m\u001b[0mpermutation\u001b[0m\u001b[0;34m,\u001b[0m\u001b[0;34m:\u001b[0m\u001b[0;34m,\u001b[0m\u001b[0;34m:\u001b[0m\u001b[0;34m,\u001b[0m\u001b[0;34m:\u001b[0m\u001b[0;34m]\u001b[0m\u001b[0;34m\u001b[0m\u001b[0m\n",
      "\u001b[0;31mNameError\u001b[0m: name 'np' is not defined"
     ]
    }
   ],
   "source": [
    "np.random.seed(121)\n",
    "def randomize(dataset,labels):\n",
    "\n",
    "    permutation=np.ranomd.permutation(labels.shape[0])\n",
    "    shuff_dataset=dataset[permutation,:,:,:]\n",
    "    shuff_labels=labels[permutation]\n",
    "    \n",
    "    return shuff_dataset,shuff_labels\n",
    "\n",
    "train_dataset_rand,train_labels_rand=randomize(train_norm,train_labels)\n",
    "test_dataset,test_labels=randomize(test_norm,test_labels)\n",
    "\n",
    "valid_dataset=train_dataset_rand[:val_size,:,:,:]\n",
    "valid_labels=train_labels_rand[:val_size]\n",
    "train_dataset=train_dataset_rand[val_size:val_size+train_size,:,:,:]\n",
    "train_labels=train_labels_rand[val_size:val_size+val_size]\n",
    "print('Training',train_dataset.shape,train_labels.shape)\n",
    "print('Validation',valid_dataset.shape,valid_labels.shape)\n",
    "print('Test',test_dataset.shape,test_labels.shape)"
   ]
  },
  {
   "cell_type": "code",
   "execution_count": null,
   "metadata": {
    "collapsed": true
   },
   "outputs": [],
   "source": []
  }
 ],
 "metadata": {
  "kernelspec": {
   "display_name": "Python 3",
   "language": "python",
   "name": "python3"
  },
  "language_info": {
   "codemirror_mode": {
    "name": "ipython",
    "version": 3
   },
   "file_extension": ".py",
   "mimetype": "text/x-python",
   "name": "python",
   "nbconvert_exporter": "python",
   "pygments_lexer": "ipython3",
   "version": "3.4.3"
  }
 },
 "nbformat": 4,
 "nbformat_minor": 2
}
